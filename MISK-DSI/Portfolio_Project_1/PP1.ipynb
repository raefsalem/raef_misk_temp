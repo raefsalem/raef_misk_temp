{
 "cells": [
  {
   "cell_type": "raw",
   "id": "2e34ddc0-b116-4deb-9b55-44772c10e706",
   "metadata": {},
   "source": [
    "MISK-DSI : Portfolio Project 1"
   ]
  },
  {
   "cell_type": "code",
   "execution_count": 3,
   "id": "e30be667-86c6-47eb-a16a-30aac51303ef",
   "metadata": {},
   "outputs": [],
   "source": [
    "library(tidyverse)"
   ]
  },
  {
   "cell_type": "code",
   "execution_count": 4,
   "id": "bbe8e9c2-a07d-425b-a779-20f390df7e0d",
   "metadata": {},
   "outputs": [
    {
     "ename": "ERROR",
     "evalue": "Error in str(x, width = tibble_width(width), max.level = max.level, ...): argument \"x\" is missing, with no default\n",
     "output_type": "error",
     "traceback": [
      "Error in str(x, width = tibble_width(width), max.level = max.level, ...): argument \"x\" is missing, with no default\nTraceback:\n",
      "1. glimpse()",
      "2. glimpse.default()",
      "3. str(x, width = tibble_width(width), max.level = max.level, ...)"
     ]
    }
   ],
   "source": []
  },
  {
   "cell_type": "code",
   "execution_count": null,
   "id": "a45b8f4a-6933-4ec0-9dc2-b0ef5fe6dfb4",
   "metadata": {},
   "outputs": [],
   "source": []
  }
 ],
 "metadata": {
  "kernelspec": {
   "display_name": "R",
   "language": "R",
   "name": "ir"
  },
  "language_info": {
   "codemirror_mode": "r",
   "file_extension": ".r",
   "mimetype": "text/x-r-source",
   "name": "R",
   "pygments_lexer": "r",
   "version": "3.6.1"
  }
 },
 "nbformat": 4,
 "nbformat_minor": 5
}
